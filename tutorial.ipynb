{
 "cells": [
  {
   "cell_type": "markdown",
   "id": "import-md",
   "metadata": {},
   "source": [
    "Import the library functionality"
   ]
  },
  {
   "cell_type": "code",
   "execution_count": 1,
   "id": "import-code",
   "metadata": {},
   "outputs": [],
   "source": [
    "from BoringTUN import *"
   ]
  },
  {
   "cell_type": "markdown",
   "id": "keypairs-header",
   "metadata": {},
   "source": [
    "## Keys and key pairs"
   ]
  },
  {
   "cell_type": "markdown",
   "id": "gen-brand-new-md",
   "metadata": {},
   "source": [
    "Generate brand new keypair"
   ]
  },
  {
   "cell_type": "code",
   "execution_count": 2,
   "id": "gen-brand-new-code",
   "metadata": {},
   "outputs": [
    {
     "data": {
      "text/plain": [
       "KeyPair(sec=SecretKey<!!!SECRET_DATA!!!>, pub=PublicKey(x25519_key.fromBytes(b'>\"\\xc6\\xee\\x10>\\x90\\x89\\xb4\\x174\\xf7\\xbd\\x92\\xfb\\x95-3\\x8a\\xa5\\xe0\\xd1\\xe8\\x91h\\x98Z\\x98b~,s')))"
      ]
     },
     "execution_count": 2,
     "metadata": {},
     "output_type": "execute_result"
    }
   ],
   "source": [
    "p1 = KeyPair(sec=None, pub=None)\n",
    "p1"
   ]
  },
  {
   "cell_type": "markdown",
   "id": "derive-public-md",
   "metadata": {},
   "source": [
    "Derive public key from private one"
   ]
  },
  {
   "cell_type": "code",
   "execution_count": 3,
   "id": "derive-public-code",
   "metadata": {},
   "outputs": [
    {
     "data": {
      "text/plain": [
       "KeyPair(sec=SecretKey<!!!SECRET_DATA!!!>, pub=PublicKey(x25519_key.fromBytes(b'>\"\\xc6\\xee\\x10>\\x90\\x89\\xb4\\x174\\xf7\\xbd\\x92\\xfb\\x95-3\\x8a\\xa5\\xe0\\xd1\\xe8\\x91h\\x98Z\\x98b~,s')))"
      ]
     },
     "execution_count": 3,
     "metadata": {},
     "output_type": "execute_result"
    }
   ],
   "source": [
    "p1 = KeyPair(sec=p1.sec, pub=None)\n",
    "p1"
   ]
  },
  {
   "cell_type": "markdown",
   "id": "owned-tribe",
   "metadata": {},
   "source": [
    "## Configs"
   ]
  },
  {
   "cell_type": "code",
   "execution_count": 4,
   "id": "enormous-departure",
   "metadata": {},
   "outputs": [],
   "source": [
    "from BoringTUN.config import *"
   ]
  },
  {
   "cell_type": "markdown",
   "id": "improving-constant",
   "metadata": {},
   "source": [
    "Configs correspond to `wg-quick` config files."
   ]
  },
  {
   "cell_type": "code",
   "execution_count": 5,
   "id": "defensive-jamaica",
   "metadata": {},
   "outputs": [],
   "source": [
    "p2 = KeyPair(sec=None, pub=None)\n",
    "cfg1 = WGConfig(\n",
    "    interface=Interface(p1.sec),\n",
    "    peers=[\n",
    "        Peer(\n",
    "            pub=p2.pub,\n",
    "            ip=None, # needed for real, non-simulated connections\n",
    "            port=None,\n",
    "            psk=\"AgGZWT8Gp2la+dkmDWPxMVTp1WJgR4gmAubGu9Z6crg=\",\n",
    "            keepAliveTimeout=10,\n",
    "        )\n",
    "    ]\n",
    ")"
   ]
  },
  {
   "cell_type": "markdown",
   "id": "liberal-acrobat",
   "metadata": {},
   "source": [
    "While we could have used the same keypair, let's generate a new one."
   ]
  },
  {
   "cell_type": "code",
   "execution_count": 6,
   "id": "opening-quilt",
   "metadata": {},
   "outputs": [],
   "source": [
    "cfg2 = WGConfig(\n",
    "    interface=Interface(p2.sec),\n",
    "    peers=[\n",
    "        Peer(\n",
    "            pub=p1.pub,\n",
    "            ip=None, # needed for real, non-simulated connections\n",
    "            port=None,\n",
    "            psk=cfg1.peers[0].psk,\n",
    "            keepAliveTimeout=10,\n",
    "        )\n",
    "    ]\n",
    ")"
   ]
  },
  {
   "cell_type": "markdown",
   "id": "tunnels-header",
   "metadata": {},
   "source": [
    "## Tunnels\n",
    "Let's create new tunnel. They are context managers."
   ]
  },
  {
   "cell_type": "code",
   "execution_count": 7,
   "id": "tunnel-creation-code",
   "metadata": {},
   "outputs": [],
   "source": [
    "t1 = Tunnel(cfg1.interface, cfg1.peers[0]).__enter__()\n",
    "t2 = Tunnel.fromConfig(cfg2).__enter__()"
   ]
  },
  {
   "cell_type": "markdown",
   "id": "handshake-md",
   "metadata": {},
   "source": [
    "Let's do a handshake"
   ]
  },
  {
   "cell_type": "code",
   "execution_count": 8,
   "id": "handshake-1-code",
   "metadata": {},
   "outputs": [
    {
     "data": {
      "text/plain": [
       "Action(<Opcode.WRITE_TO_NETWORK: 1>, b'\\x01\\x00\\x00\\x00\\x01\\x00\\x00\\x00\\xe5\\x8aC\\xb4h\\xbaC\\x14\\x1fA\\xbeZ\\t\\xe6\\x9f\\x8f\\xe6\\x9b\\x92V\\x91\\n\\xd1\\xfa\\xb5\"\\tH\\xd1VwU\\'s%\\x81\\x1a\\x9e\\x81=D\\xc8\\xa8\\x1eY\\xcd8\\xf4\\xf9X\\x82n\\xd6\\xed\\x02\\xf3f(\\xaf\\x99\\xe5\\xe0sb\\xe6\\xd9\\xa883\\xb8\\xea\\xd2\\xd9[\\x10\\x10p\\xaa\\xa1L\\x13\\x15O)t\\xb4Q\\xb0\\xb6\\x0f\\x16O\\xb8|\\xec\\xb5\\xc7)dboDV\\xa0\\xe1YSO\\xf1\\x8c\"\\xbc\\x1aJMR\\x0f\\xcfm\\xb4\\x95S\\xe5\\xa3\\x00\\x00\\x00\\x00\\x00\\x00\\x00\\x00\\x00\\x00\\x00\\x00\\x00\\x00\\x00\\x00')"
      ]
     },
     "execution_count": 8,
     "metadata": {},
     "output_type": "execute_result"
    }
   ],
   "source": [
    "hs = t1.force_handshake()\n",
    "hs"
   ]
  },
  {
   "cell_type": "code",
   "execution_count": 9,
   "id": "handshake-2-code",
   "metadata": {},
   "outputs": [
    {
     "data": {
      "text/plain": [
       "Action(<Opcode.WRITE_TO_NETWORK: 1>, b'\\x02\\x00\\x00\\x00\\x01\\x00\\x00\\x00\\x01\\x00\\x00\\x00\\x97\\xd4^B\\xe5_)\\xb0I\\x9e\\x85z\\xc4\\xd3\\x0c\\x9dkry\\xcc\\xfdj\\x9a\\x84\\xab\\xf4\\xf9\\x1d\\xbf?\\x118\\xc6;\\x9b{\\xab\\xc7\\xd0\\xa7\\xc7\\xa3\\n\\x84\\xc94\\xf5\\x81\\xee\\xc3\\xac\\x82\\x1d\\xb1\\x08\\x14\\x12\\xd2v\\xe1b)|r\\x00\\x00\\x00\\x00\\x00\\x00\\x00\\x00\\x00\\x00\\x00\\x00\\x00\\x00\\x00\\x00')"
      ]
     },
     "execution_count": 9,
     "metadata": {},
     "output_type": "execute_result"
    }
   ],
   "source": [
    "hs = t2.unwrap(hs.buf)\n",
    "hs"
   ]
  },
  {
   "cell_type": "code",
   "execution_count": 10,
   "id": "handshake-3-code",
   "metadata": {},
   "outputs": [
    {
     "data": {
      "text/plain": [
       "Action(<Opcode.WRITE_TO_NETWORK: 1>, b'\\x04\\x00\\x00\\x00\\x01\\x00\\x00\\x00\\x00\\x00\\x00\\x00\\x00\\x00\\x00\\x00o\\xa7\\xaf~5Z\\x15\\xd3\\xba\\x9a\\xbc\\xa5it\\x98P')"
      ]
     },
     "execution_count": 10,
     "metadata": {},
     "output_type": "execute_result"
    }
   ],
   "source": [
    "hs = t1.unwrap(hs.buf)\n",
    "hs"
   ]
  },
  {
   "cell_type": "code",
   "execution_count": 11,
   "id": "handshake-4-code",
   "metadata": {},
   "outputs": [
    {
     "data": {
      "text/plain": [
       "Action(<Opcode.WIREGUARD_DONE: 0>)"
      ]
     },
     "execution_count": 11,
     "metadata": {},
     "output_type": "execute_result"
    }
   ],
   "source": [
    "hs = t2.unwrap(hs.buf)\n",
    "hs"
   ]
  },
  {
   "cell_type": "markdown",
   "id": "data-transfer-md",
   "metadata": {},
   "source": [
    "Now we can transfer data"
   ]
  },
  {
   "cell_type": "code",
   "execution_count": 12,
   "id": "data-transfer-data-code",
   "metadata": {},
   "outputs": [],
   "source": [
    "pingPacket = (\n",
    "\tb\"\\x45\\x00\\x00\\x54\\x84\\xcb\\x40\\x00\\x40\\x01\\xb7\\xdb\\x7f\\x00\\x00\\x01\\x7f\\x00\\x00\\x01\"  # IPv4 header\n",
    "\t+\tb\"\\x08\\x00\\x19\\xc2\\x00\\x0e\\x00\\x01\\x41\\x3d\\x5d\\x62\\x00\\x00\\x00\\x00\\x7b\\xbc\\x05\\x00\\x00\\x00\\x00\\x00\\x10\\x11\\x12\\x13\\x14\\x15\\x16\\x17\\x18\\x19\\x1a\\x1b\\x1c\\x1d\\x1e\\x1f\\x20\\x21\\x22\\x23\\x24\\x25\\x26\\x27\\x28\\x29\\x2a\\x2b\\x2c\\x2d\\x2e\\x2f\\x30\\x31\\x32\\x33\\x34\\x35\\x36\\x37\"  # ICMP packet\n",
    ")"
   ]
  },
  {
   "cell_type": "code",
   "execution_count": 13,
   "id": "data-transfer-1-code",
   "metadata": {},
   "outputs": [
    {
     "data": {
      "text/plain": [
       "Action(<Opcode.WRITE_TO_NETWORK: 1>, b'\\x04\\x00\\x00\\x00\\x01\\x00\\x00\\x00\\x01\\x00\\x00\\x00\\x00\\x00\\x00\\x00\\xd7\\xf0 8C\\xe6\\x80@\\xe3e\\x07f;\\xcci\\xdf#v\\xc1\\r\\x14\\xa0\\x9b\\xdb\\xdb\\xf2\\xe3\\xf7\\x99\\xa4\\x91\\xcf\\xab\\xb7\\x9fr\\xc5;`=\\x10\\xa4A\\x812\\xb0\\x8a\\xb4\\xe131:\\xe5!\\x81\\xf1\\xecs\\x92y\\x982$\\xe7e\\x1b\\x0b\\x88Rr:qlT\\x1f\\x8c\\xdb\\xe4\\x82\\x00v\\xaa\\xe8\\xa8\\xd0|\\xca\\xd5\\xff\\x95\\xbdJ\\xec\\xb1\\\\\\x86\\x99\\xachn')"
      ]
     },
     "execution_count": 13,
     "metadata": {},
     "output_type": "execute_result"
    }
   ],
   "source": [
    "tx = t1.wrap(pingPacket)\n",
    "tx"
   ]
  },
  {
   "cell_type": "code",
   "execution_count": 14,
   "id": "data-transfer-2-code",
   "metadata": {},
   "outputs": [
    {
     "data": {
      "text/plain": [
       "Action(<Opcode.WRITE_TO_TUNNEL_IPV4: 4>, b'E\\x00\\x00T\\x84\\xcb@\\x00@\\x01\\xb7\\xdb\\x7f\\x00\\x00\\x01\\x7f\\x00\\x00\\x01\\x08\\x00\\x19\\xc2\\x00\\x0e\\x00\\x01A=]b\\x00\\x00\\x00\\x00{\\xbc\\x05\\x00\\x00\\x00\\x00\\x00\\x10\\x11\\x12\\x13\\x14\\x15\\x16\\x17\\x18\\x19\\x1a\\x1b\\x1c\\x1d\\x1e\\x1f !\"#$%&\\'()*+,-./01234567')"
      ]
     },
     "execution_count": 14,
     "metadata": {},
     "output_type": "execute_result"
    }
   ],
   "source": [
    "rx = t2.unwrap(tx.buf)\n",
    "rx"
   ]
  },
  {
   "cell_type": "code",
   "execution_count": 15,
   "id": "data-transfer-both-are-the-same-code",
   "metadata": {},
   "outputs": [
    {
     "data": {
      "text/plain": [
       "True"
      ]
     },
     "execution_count": 15,
     "metadata": {},
     "output_type": "execute_result"
    }
   ],
   "source": [
    "rx.buf == pingPacket"
   ]
  },
  {
   "cell_type": "markdown",
   "id": "incorrect-packet-md",
   "metadata": {},
   "source": [
    "As you see, the type of the packet is detected automatically by BoringTUN. But piping arbitrary data doesn't work:"
   ]
  },
  {
   "cell_type": "code",
   "execution_count": 16,
   "id": "incorrect-packet-code",
   "metadata": {},
   "outputs": [
    {
     "data": {
      "text/plain": [
       "Action(<Opcode.WIREGUARD_ERROR: 2>, b'abcdefghijk')"
      ]
     },
     "execution_count": 16,
     "metadata": {},
     "output_type": "execute_result"
    }
   ],
   "source": [
    "tx = t1.wrap(b\"abcdefghijklmnopywrtuvwxyz\")\n",
    "rx = t2.unwrap(tx.buf)\n",
    "rx"
   ]
  },
  {
   "cell_type": "markdown",
   "id": "ticks-md",
   "metadata": {},
   "source": [
    "One should pass ticks by timer"
   ]
  },
  {
   "cell_type": "code",
   "execution_count": 17,
   "id": "ticks-1-code",
   "metadata": {},
   "outputs": [
    {
     "data": {
      "text/plain": [
       "Action(<Opcode.WIREGUARD_DONE: 0>)"
      ]
     },
     "execution_count": 17,
     "metadata": {},
     "output_type": "execute_result"
    }
   ],
   "source": [
    "tx = t1.tick()\n",
    "tx"
   ]
  },
  {
   "cell_type": "markdown",
   "id": "stats-md",
   "metadata": {},
   "source": [
    "One can get internal stats:"
   ]
  },
  {
   "cell_type": "code",
   "execution_count": 18,
   "id": "stats-code",
   "metadata": {},
   "outputs": [
    {
     "data": {
      "text/plain": [
       "stats<time_since_last_handshake=1653667872, tx_bytes=110, rx_bytes=0, estimated_loss=0.0, estimated_rtt=199, reserved=<BoringTUN.ctypes.c_ubyte_Array_56 object at 0x7f7ee0697240>>"
      ]
     },
     "metadata": {},
     "output_type": "display_data"
    },
    {
     "data": {
      "text/plain": [
       "stats<time_since_last_handshake=1653667872, tx_bytes=0, rx_bytes=84, estimated_loss=0.0, estimated_rtt=-1, reserved=<BoringTUN.ctypes.c_ubyte_Array_56 object at 0x7f7ee0697240>>"
      ]
     },
     "metadata": {},
     "output_type": "display_data"
    }
   ],
   "source": [
    "s1 = t1.stats()\n",
    "s2 = t2.stats()\n",
    "display(s1, s2)"
   ]
  },
  {
   "cell_type": "markdown",
   "id": "correct-morris",
   "metadata": {},
   "source": [
    "## `asyncio`\n",
    "\n",
    "Module `BoringTUN.asyncio` contains `BoringTUNProtocol` class, which implements [both a `Transport` and a `DatagramProtocol`](https://docs.python.org/3/library/asyncio-protocol.html). Though it gets and consumes raw IP packets, not UDP ones. It's up to you to parse and process them."
   ]
  }
 ],
 "metadata": {
  "kernelspec": {
   "display_name": "Python 3",
   "language": "python",
   "name": "python3"
  },
  "language_info": {
   "codemirror_mode": {
    "name": "ipython",
    "version": 3
   },
   "file_extension": ".py",
   "mimetype": "text/x-python",
   "name": "python",
   "nbconvert_exporter": "python",
   "pygments_lexer": "ipython3",
   "version": "3.9.7"
  }
 },
 "nbformat": 4,
 "nbformat_minor": 5
}
